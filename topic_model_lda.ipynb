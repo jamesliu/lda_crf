{
 "cells": [
  {
   "cell_type": "code",
   "execution_count": 1,
   "metadata": {
    "ExecuteTime": {
     "end_time": "2017-12-30T04:52:56.565904Z",
     "start_time": "2017-12-30T04:52:54.295502Z"
    },
    "collapsed": true
   },
   "outputs": [],
   "source": [
    "from nltk.tokenize import RegexpTokenizer\n",
    "from nltk.corpus import stopwords\n",
    "from nltk.stem.snowball import SnowballStemmer\n",
    "from gensim import models, corpora"
   ]
  },
  {
   "cell_type": "code",
   "execution_count": 2,
   "metadata": {
    "ExecuteTime": {
     "end_time": "2017-12-30T04:53:50.838969Z",
     "start_time": "2017-12-30T04:53:50.828399Z"
    },
    "collapsed": true
   },
   "outputs": [],
   "source": [
    "def load_data(input_file):\n",
    "    data=[]\n",
    "    with open(input_file, 'r') as f:\n",
    "        for line in f.readlines():\n",
    "            data.append(line[:-1])\n",
    "    return data"
   ]
  },
  {
   "cell_type": "code",
   "execution_count": 26,
   "metadata": {
    "ExecuteTime": {
     "end_time": "2017-12-30T05:07:19.731906Z",
     "start_time": "2017-12-30T05:07:19.724601Z"
    },
    "collapsed": true
   },
   "outputs": [],
   "source": [
    "def process(input_text):\n",
    "    tokenizer = RegexpTokenizer(r'\\w+')\n",
    "    stemmer = SnowballStemmer('english')\n",
    "    stop_words = stopwords.words('english')\n",
    "    tokens = tokenizer.tokenize(input_text.lower())\n",
    "    tokens = [x for x in tokens if not x in stop_words]\n",
    "    tokens_stemmed = [stemmer.stem(x) for x in tokens]\n",
    "    return tokens_stemmed"
   ]
  },
  {
   "cell_type": "code",
   "execution_count": 29,
   "metadata": {
    "ExecuteTime": {
     "end_time": "2017-12-30T05:07:32.355697Z",
     "start_time": "2017-12-30T05:07:32.325759Z"
    }
   },
   "outputs": [
    {
     "name": "stdout",
     "output_type": "stream",
     "text": [
      "The Fulton County Grand Jury said Friday an investigation of Atlanta's recent primary election produced `` no evidence '' that any irregularities took place .\n"
     ]
    }
   ],
   "source": [
    "from nltk.corpus import brown\n",
    "data = []\n",
    "for sent in brown.sents()[:100]:\n",
    "    data.append(' '.join(sent))\n",
    "print(data[0])"
   ]
  },
  {
   "cell_type": "code",
   "execution_count": 31,
   "metadata": {
    "ExecuteTime": {
     "end_time": "2017-12-30T05:08:01.065059Z",
     "start_time": "2017-12-30T05:08:01.018826Z"
    }
   },
   "outputs": [],
   "source": [
    "tokens = [process(x) for x in data]\n",
    "#print(tokens)"
   ]
  },
  {
   "cell_type": "code",
   "execution_count": 33,
   "metadata": {
    "ExecuteTime": {
     "end_time": "2017-12-30T05:09:55.045820Z",
     "start_time": "2017-12-30T05:09:55.039344Z"
    }
   },
   "outputs": [],
   "source": [
    "dict_tokens = corpora.Dictionary(tokens)\n",
    "docterm_matrix = [dict_tokens.doc2bow(token) for token in tokens]"
   ]
  },
  {
   "cell_type": "code",
   "execution_count": 38,
   "metadata": {
    "ExecuteTime": {
     "end_time": "2017-12-30T05:11:39.057556Z",
     "start_time": "2017-12-30T05:11:34.299712Z"
    }
   },
   "outputs": [
    {
     "name": "stdout",
     "output_type": "stream",
     "text": [
      "100\n"
     ]
    }
   ],
   "source": [
    "print(len(docterm_matrix))\n",
    "num_topics = 3\n",
    "ldamodel = models.ldamodel.LdaModel(docterm_matrix,\n",
    "                                   num_topics, id2word=dict_tokens, passes=30)"
   ]
  },
  {
   "cell_type": "code",
   "execution_count": 41,
   "metadata": {
    "ExecuteTime": {
     "end_time": "2017-12-30T05:17:08.185677Z",
     "start_time": "2017-12-30T05:17:08.165776Z"
    }
   },
   "outputs": [
    {
     "name": "stdout",
     "output_type": "stream",
     "text": [
      "\n",
      "Top5\n",
      "\n",
      "Topic 0\n",
      "\"said\"  : 1.6%\n",
      "\"resolut\"  : 1.3%\n",
      "\"bond\"  : 1.2%\n",
      "\"would\"  : 1.1%\n",
      "\"state\" : 1.0%\n",
      "\n",
      "Topic 1\n",
      "\"juri\"  : 2.0%\n",
      "\"fulton\"  : 1.7%\n",
      "\"counti\"  : 1.6%\n",
      "\"said\"  : 1.5%\n",
      "\"depart\" : 1.4%\n",
      "\n",
      "Topic 2\n",
      "\"legisl\"  : 1.2%\n",
      "\"counti\"  : 1.2%\n",
      "\"elect\"  : 1.1%\n",
      "\"said\"  : 1.0%\n",
      "\"citi\" : 1.0%\n"
     ]
    }
   ],
   "source": [
    "num_words = 5\n",
    "print('\\nTop' + str(num_words))\n",
    "for item in ldamodel.print_topics(num_topics=num_topics,\n",
    "                                 num_words = num_words):\n",
    "    print('\\nTopic', item[0])\n",
    "    weighted_words = item[1].split('+')\n",
    "    for text in weighted_words:\n",
    "        weight = text.split('*')[0] \n",
    "        word = text.split('*')[1]\n",
    "        print(word, ':', str(round(float(weight)*100,2)) + '%')"
   ]
  }
 ],
 "metadata": {
  "kernelspec": {
   "display_name": "Python [conda env:g]",
   "language": "python",
   "name": "conda-env-g-py"
  },
  "language_info": {
   "codemirror_mode": {
    "name": "ipython",
    "version": 3
   },
   "file_extension": ".py",
   "mimetype": "text/x-python",
   "name": "python",
   "nbconvert_exporter": "python",
   "pygments_lexer": "ipython3",
   "version": "3.6.3"
  }
 },
 "nbformat": 4,
 "nbformat_minor": 2
}
