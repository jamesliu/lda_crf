{
 "cells": [
  {
   "cell_type": "code",
   "execution_count": 31,
   "metadata": {
    "ExecuteTime": {
     "end_time": "2017-12-30T20:25:32.296663Z",
     "start_time": "2017-12-30T20:25:32.293069Z"
    }
   },
   "outputs": [],
   "source": [
    "import numpy as np\n",
    "from pystruct.datasets import load_letters\n",
    "from pystruct.models import ChainCRF\n",
    "from pystruct.learners import FrankWolfeSSVM"
   ]
  },
  {
   "cell_type": "code",
   "execution_count": 32,
   "metadata": {
    "ExecuteTime": {
     "end_time": "2017-12-30T20:25:32.959480Z",
     "start_time": "2017-12-30T20:25:32.931777Z"
    },
    "collapsed": true
   },
   "outputs": [],
   "source": [
    "def build_arg_parser():\n",
    "    parser = argparse.ArgumentParser(description='Train a Conditional Field classifier')\n",
    "    parser.add_argument(\"--C\", dest=\"c_val\", required=False, type=float,\n",
    "                        default=1.0, help='C value to be used for traingin' )\n",
    "    return parser\n",
    "\n",
    "class CRFModel(object):\n",
    "    def __init__(self, c_val=1.0):\n",
    "        self.clf = FrankWolfeSSVM(model=ChainCRF(), C=c_val, max_iter=50)\n",
    "    def load_data(self):\n",
    "        alphabets = load_letters()\n",
    "        X=np.array(alphabets['data'])\n",
    "        y= np.array(alphabets['labels'])\n",
    "        folds = alphabets['folds']\n",
    "        return X, y, folds\n",
    "    \n",
    "    def train(self, X_train, y_train):\n",
    "        self.clf.fit(X_train, y_train)\n",
    "        \n",
    "    def evaluate(self, X_test, y_test):\n",
    "        return self.clf.score(X_test, y_test)\n",
    "    \n",
    "    def classify(self, input_data):\n",
    "        return self.clf.predict(input_data)[0]"
   ]
  },
  {
   "cell_type": "code",
   "execution_count": 33,
   "metadata": {
    "ExecuteTime": {
     "end_time": "2017-12-30T20:25:33.685041Z",
     "start_time": "2017-12-30T20:25:33.525459Z"
    }
   },
   "outputs": [],
   "source": [
    "letters = load_letters()"
   ]
  },
  {
   "cell_type": "code",
   "execution_count": 34,
   "metadata": {
    "ExecuteTime": {
     "end_time": "2017-12-30T20:25:34.219063Z",
     "start_time": "2017-12-30T20:25:34.209797Z"
    }
   },
   "outputs": [
    {
     "name": "stdout",
     "output_type": "stream",
     "text": [
      "Data [array([[0, 0, 0, ..., 0, 0, 0],\n",
      "       [0, 0, 0, ..., 0, 0, 0],\n",
      "       [0, 0, 0, ..., 0, 0, 0],\n",
      "       ..., \n",
      "       [0, 0, 0, ..., 0, 0, 0],\n",
      "       [0, 0, 0, ..., 0, 0, 0],\n",
      "       [0, 1, 1, ..., 1, 0, 0]], dtype=uint8), array([[0, 0, 0, ..., 0, 0, 0],\n",
      "       [0, 0, 0, ..., 0, 0, 0],\n",
      "       [0, 0, 0, ..., 0, 0, 0],\n",
      "       ..., \n",
      "       [0, 0, 0, ..., 0, 0, 0],\n",
      "       [0, 0, 0, ..., 0, 0, 0],\n",
      "       [1, 1, 1, ..., 0, 0, 0]], dtype=uint8), array([[0, 0, 0, ..., 0, 0, 0],\n",
      "       [0, 0, 0, ..., 0, 0, 0],\n",
      "       [0, 0, 0, ..., 0, 0, 0],\n",
      "       ..., \n",
      "       [0, 0, 0, ..., 0, 0, 0],\n",
      "       [0, 0, 0, ..., 0, 0, 0],\n",
      "       [0, 0, 0, ..., 1, 1, 1]], dtype=uint8)]\n",
      "Labels [array([14, 12, 12,  0, 13,  3,  8, 13,  6]), array([14, 12, 12,  0, 13,  3,  8, 13,  6]), array([14, 12, 12,  0, 13,  3,  8, 13,  6])]\n",
      "Folds [0 7 8]\n",
      "dict_keys(['folds', 'labels', 'data', 'word', 'images'])\n",
      "Len 6877\n"
     ]
    }
   ],
   "source": [
    "print('Data', letters['data'][:3])\n",
    "print('Labels', letters['labels'][:3])\n",
    "print('Folds', letters['folds'][:3])\n",
    "print(letters.keys())\n",
    "print('Len', len(letters['data']))"
   ]
  },
  {
   "cell_type": "code",
   "execution_count": 38,
   "metadata": {
    "ExecuteTime": {
     "end_time": "2017-12-30T20:28:10.516166Z",
     "start_time": "2017-12-30T20:28:10.511188Z"
    }
   },
   "outputs": [],
   "source": [
    "import string\n",
    "def convert_to_letters(indices):\n",
    "    alphabets = np.array(list(string.ascii_lowercase))\n",
    "    output=np.take(alphabets, indices)\n",
    "    output= ''.join(output)\n",
    "    return output"
   ]
  },
  {
   "cell_type": "code",
   "execution_count": 41,
   "metadata": {
    "ExecuteTime": {
     "end_time": "2017-12-30T20:29:26.494231Z",
     "start_time": "2017-12-30T20:29:10.220160Z"
    }
   },
   "outputs": [
    {
     "name": "stdout",
     "output_type": "stream",
     "text": [
      "\n",
      "Accuracy score= 78.12%\n"
     ]
    }
   ],
   "source": [
    "c_val=1.0\n",
    "crf = CRFModel(c_val)\n",
    "\n",
    "X, y, folds = crf.load_data()\n",
    "X_train, X_test = X[folds == 1], X[folds != 1]\n",
    "y_train, y_test = y[folds == 1], y[folds != 1]\n",
    "\n",
    "crf.train(X_train, y_train)\n",
    "score = crf.evaluate(X_test, y_test)\n",
    "print('\\nAccuracy score=', str(round(score*100,2)) + '%')"
   ]
  },
  {
   "cell_type": "code",
   "execution_count": 42,
   "metadata": {
    "ExecuteTime": {
     "end_time": "2017-12-30T20:29:26.539037Z",
     "start_time": "2017-12-30T20:29:26.497149Z"
    }
   },
   "outputs": [
    {
     "name": "stdout",
     "output_type": "stream",
     "text": [
      "[17 14  9  4  2 19  8 14 13 18]\n",
      "Original = rojections\n",
      "Predicted = rojectiong\n",
      "[20  5  5]\n",
      "Original = uff\n",
      "Predicted = ufr\n",
      "[10  8  8 13  6]\n",
      "Original = kiing\n",
      "Predicted = kiing\n",
      "[ 4  2 14 12 15 17  4 18 18]\n",
      "Original = ecompress\n",
      "Predicted = ecomertig\n",
      "[20 25 25]\n",
      "Original = uzz\n",
      "Predicted = vex\n",
      "[15 14  8 11  8 13  6]\n",
      "Original = poiling\n",
      "Predicted = aniting\n",
      "[20  8 25 25  8  2  0 11 11 24]\n",
      "Original = uizzically\n",
      "Predicted = uzzzically\n",
      "[14 12 15  0 17  0 19  8 21  4 11 24]\n",
      "Original = omparatively\n",
      "Predicted = omparatively\n",
      "[ 0  1 20 11 14 20 18 11 24]\n",
      "Original = abulously\n",
      "Predicted = abuloualy\n",
      "[14 17 12  0 11  8 25  0 19  8 14 13]\n",
      "Original = ormalization\n",
      "Predicted = ormalisation\n",
      "[ 0 10  4]\n",
      "Original = ake\n",
      "Predicted = aka\n",
      "[ 0  5  4 19  4 17  8  0]\n",
      "Original = afeteria\n",
      "Predicted = ateteria\n",
      "[14  1  1 11  4]\n",
      "Original = obble\n",
      "Predicted = obble\n",
      "[ 7  0  3 14 22]\n",
      "Original = hadow\n",
      "Predicted = habow\n",
      "[13  3 20 18 19 17  8  0 11  8 25  4  3]\n",
      "Original = ndustrialized\n",
      "Predicted = ndusqrialyled\n",
      "[24 12 15  0 19  7  4 19  8  2  0 11 11 24]\n",
      "Original = ympathetically\n",
      "Predicted = ympnshetically\n"
     ]
    }
   ],
   "source": [
    "indices = range(3000, len(y_test), 200)\n",
    "for index in indices:\n",
    "    print(y_test[index])\n",
    "    print(\"Original =\", convert_to_letters(y_test[index]))\n",
    "    predicted = crf.classify([X_test[index]])\n",
    "    print(\"Predicted =\", convert_to_letters(predicted))"
   ]
  },
  {
   "cell_type": "code",
   "execution_count": null,
   "metadata": {
    "collapsed": true
   },
   "outputs": [],
   "source": []
  }
 ],
 "metadata": {
  "kernelspec": {
   "display_name": "Python [conda env:g]",
   "language": "python",
   "name": "conda-env-g-py"
  },
  "language_info": {
   "codemirror_mode": {
    "name": "ipython",
    "version": 3
   },
   "file_extension": ".py",
   "mimetype": "text/x-python",
   "name": "python",
   "nbconvert_exporter": "python",
   "pygments_lexer": "ipython3",
   "version": "3.6.3"
  }
 },
 "nbformat": 4,
 "nbformat_minor": 2
}
